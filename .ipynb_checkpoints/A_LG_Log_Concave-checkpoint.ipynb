{
 "cells": [
  {
   "cell_type": "code",
   "execution_count": 1,
   "id": "f62a4bae-7816-41df-aa7a-33d0caf2fd42",
   "metadata": {},
   "outputs": [],
   "source": [
    "import pandas as pd\n",
    "import sympy as sp\n",
    "import numpy as np\n",
    "import matplotlib.pyplot as plt\n",
    "import os\n",
    "from tqdm.notebook import tqdm"
   ]
  },
  {
   "cell_type": "code",
   "execution_count": 2,
   "id": "8eee2901-9363-4a27-ab81-c7956750bcd6",
   "metadata": {},
   "outputs": [],
   "source": [
    "def get_coefficient_matrix_laurent_fast(E):\n",
    "    # 定义符号变量\n",
    "    t0, t1 = sp.symbols('t0 t1')\n",
    "    \n",
    "    # 展开表达式\n",
    "    E = sp.expand(E)\n",
    "    \n",
    "    # 建立稀疏的系数字典：keys 是 (i, j)，values 是系数\n",
    "    coeff_dict = {}\n",
    "    min_i = min_j = float('inf')\n",
    "    max_i = max_j = float('-inf')\n",
    "    \n",
    "    for term in E.as_ordered_terms():\n",
    "        term_dict = term.as_powers_dict()\n",
    "        i = int(term_dict.get(t0, 0))\n",
    "        j = int(term_dict.get(t1, 0))\n",
    "        coeff = term / (t0**i * t1**j)\n",
    "        \n",
    "        coeff_dict[(i, j)] = float(coeff)\n",
    "        \n",
    "        # 更新指数范围\n",
    "        min_i = min(min_i, i)\n",
    "        max_i = max(max_i, i)\n",
    "        min_j = min(min_j, j)\n",
    "        max_j = max(max_j, j)\n",
    "    \n",
    "    # 初始化系数矩阵\n",
    "    A = np.zeros((max_i - min_i + 1, max_j - min_j + 1))\n",
    "    \n",
    "    # 填入系数\n",
    "    for (i, j), coeff in coeff_dict.items():\n",
    "        A[i - min_i, j - min_j] = coeff\n",
    "    \n",
    "    return A, (min_i, min_j)\n",
    "\n",
    "def visualize_coefficient_matrix(A, offset, title=\"Coefficient Matrix A\"):\n",
    "    min_i, min_j = offset\n",
    "\n",
    "    extent = [min_j - 0.5, min_j + A.shape[1] - 0.5,   # x range (t1)\n",
    "              min_i - 0.5, min_i + A.shape[0] - 0.5]   # y range (t0)\n",
    "\n",
    "    fig = plt.figure(figsize=(8, 6))\n",
    "    im = plt.imshow(A, extent=extent, cmap='coolwarm', interpolation='none', origin='lower')\n",
    "    plt.colorbar(im, label=\"Coefficient value\")\n",
    "\n",
    "    plt.xticks(np.arange(min_j, min_j + A.shape[1]))\n",
    "    plt.yticks(np.arange(min_i, min_i + A.shape[0]))\n",
    "    plt.xlabel(\"Exponent of $t_1$\")\n",
    "    plt.ylabel(\"Exponent of $t_0$\")\n",
    "    plt.title(title)\n",
    "    plt.grid(True, linestyle=':', alpha=0.5)\n",
    "    # plt.show()\n",
    "    return fig\n",
    "\n",
    "def test_convex(T,i,j,l,m):\n",
    "    if np.abs(T[i-l,j-m]) * np.abs(T[i+l,j+m]) <= T[i,j]**2:\n",
    "        return 0\n",
    "    else:\n",
    "        return 1"
   ]
  },
  {
   "cell_type": "code",
   "execution_count": 3,
   "id": "592a6a57-5674-4af2-856c-5db19003b993",
   "metadata": {},
   "outputs": [],
   "source": [
    "def create_fold(fpath):\n",
    "    if not os.path.exists(fpath):\n",
    "        os.makedirs(fpath)\n",
    "        print(f\"Created folder: {fpath}\")\n",
    "    else:\n",
    "        print(f\"Folder already exists: {fpath}\")"
   ]
  },
  {
   "cell_type": "code",
   "execution_count": 4,
   "id": "fe4efe33-9ed0-4f10-b376-a834f92fdb96",
   "metadata": {},
   "outputs": [
    {
     "name": "stdout",
     "output_type": "stream",
     "text": [
      "Folder already exists: ./data/A_whole\n",
      "Folder already exists: ./data/A_figures\n"
     ]
    }
   ],
   "source": [
    "create_fold('./data/A_whole')\n",
    "create_fold('./data/A_figures')"
   ]
  },
  {
   "cell_type": "code",
   "execution_count": 5,
   "id": "e7e12c85-6738-419c-b011-9c7c31d8f80f",
   "metadata": {},
   "outputs": [],
   "source": [
    "def bbtest(num):\n",
    "    fname = './data/A_new/new_'+num+'A.csv'\n",
    "    D = pd.read_csv(fname)\n",
    "    D['A'] = pd.Series(dtype=object)\n",
    "    D['test'] = 0\n",
    "    \n",
    "    figure_path = \"./data/A_figures/A\"+num  # figure path\n",
    "    # Create the folder if it does not exist\n",
    "    create_fold(figure_path)\n",
    "\n",
    "    print('A'+num+' starts...')\n",
    "    for d in tqdm(range(len(D))):\n",
    "        t0, t1 = sp.symbols('t0 t1')\n",
    "        E = D.loc[d,'newExpr']\n",
    "        A, offset = get_coefficient_matrix_laurent_fast(E)\n",
    "        A = A.astype(int)\n",
    "        D.at[d,'A'] = A\n",
    "        fname = D.loc[d,'key']\n",
    "        fig = visualize_coefficient_matrix(np.abs(A), offset, title=\"Laurent Polynomial Coefficient Matrix of \\n\"+fname+\"\\n\")\n",
    "        fig.savefig(figure_path+'/A'+num+'_'+str(d+1)+'.png',dpi=200)\n",
    "        plt.close()\n",
    "    \n",
    "        M,N = A.shape\n",
    "        AA = np.zeros((M*3,N*3))\n",
    "        AA[M:M*2,N:N*2] = A\n",
    "        F = np.zeros(AA.shape)\n",
    "        for l in np.arange(-int(M/2),int(M/2)+1):\n",
    "            for m in np.arange(-int(N/2),int(N/2)+1):\n",
    "                for i in np.arange(M,M*2):\n",
    "                    for j in np.arange(N,N*2):\n",
    "                        F[i,j] = test_convex(AA,i,j,l,m)\n",
    "        num_ones = np.count_nonzero(F == 1)\n",
    "    \n",
    "        print(d, D.loc[d,'key'], \" - test_convex - number of 1s:\", num_ones)\n",
    "        D.loc[d,'test'] = num_ones\n",
    "\n",
    "    D.to_csv('./data/A_whole/A'+num+'.csv',index=False)\n",
    "    print('A'+num+' finished...', 'number of non_zero knots:', D['test'].sum())\n",
    "    return D['test'].sum()"
   ]
  },
  {
   "cell_type": "code",
   "execution_count": 6,
   "id": "9a6c8fa9-6240-4a30-945d-73a3d78ba19a",
   "metadata": {},
   "outputs": [
    {
     "name": "stdout",
     "output_type": "stream",
     "text": [
      "Folder already exists: ./data/A_figures/A10\n",
      "A10 starts...\n"
     ]
    },
    {
     "data": {
      "application/vnd.jupyter.widget-view+json": {
       "model_id": "61e1d3aef6ef447fb37b2b31f7f7956c",
       "version_major": 2,
       "version_minor": 0
      },
      "text/plain": [
       "  0%|          | 0/123 [00:00<?, ?it/s]"
      ]
     },
     "metadata": {},
     "output_type": "display_data"
    },
    {
     "name": "stdout",
     "output_type": "stream",
     "text": [
      "0 LinksGouldInvariant[2, 1, PrimeKnot[10, \"A\", 1]]  - test_convex - number of 1s: 0\n",
      "1 LinksGouldInvariant[2, 1, PrimeKnot[10, \"A\", 2]]  - test_convex - number of 1s: 0\n",
      "2 LinksGouldInvariant[2, 1, PrimeKnot[10, \"A\", 3]]  - test_convex - number of 1s: 0\n",
      "3 LinksGouldInvariant[2, 1, PrimeKnot[10, \"A\", 4]]  - test_convex - number of 1s: 0\n",
      "4 LinksGouldInvariant[2, 1, PrimeKnot[10, \"A\", 5]]  - test_convex - number of 1s: 0\n",
      "5 LinksGouldInvariant[2, 1, PrimeKnot[10, \"A\", 6]]  - test_convex - number of 1s: 0\n",
      "6 LinksGouldInvariant[2, 1, PrimeKnot[10, \"A\", 7]]  - test_convex - number of 1s: 0\n",
      "7 LinksGouldInvariant[2, 1, PrimeKnot[10, \"A\", 8]]  - test_convex - number of 1s: 0\n",
      "8 LinksGouldInvariant[2, 1, PrimeKnot[10, \"A\", 9]]  - test_convex - number of 1s: 0\n",
      "9 LinksGouldInvariant[2, 1, PrimeKnot[10, \"A\", 10]]  - test_convex - number of 1s: 0\n",
      "10 LinksGouldInvariant[2, 1, PrimeKnot[10, \"A\", 11]]  - test_convex - number of 1s: 0\n",
      "11 LinksGouldInvariant[2, 1, PrimeKnot[10, \"A\", 12]]  - test_convex - number of 1s: 0\n",
      "12 LinksGouldInvariant[2, 1, PrimeKnot[10, \"A\", 13]]  - test_convex - number of 1s: 0\n",
      "13 LinksGouldInvariant[2, 1, PrimeKnot[10, \"A\", 14]]  - test_convex - number of 1s: 0\n",
      "14 LinksGouldInvariant[2, 1, PrimeKnot[10, \"A\", 15]]  - test_convex - number of 1s: 0\n",
      "15 LinksGouldInvariant[2, 1, PrimeKnot[10, \"A\", 16]]  - test_convex - number of 1s: 0\n",
      "16 LinksGouldInvariant[2, 1, PrimeKnot[10, \"A\", 17]]  - test_convex - number of 1s: 0\n",
      "17 LinksGouldInvariant[2, 1, PrimeKnot[10, \"A\", 18]]  - test_convex - number of 1s: 0\n",
      "18 LinksGouldInvariant[2, 1, PrimeKnot[10, \"A\", 19]]  - test_convex - number of 1s: 0\n",
      "19 LinksGouldInvariant[2, 1, PrimeKnot[10, \"A\", 20]]  - test_convex - number of 1s: 0\n",
      "20 LinksGouldInvariant[2, 1, PrimeKnot[10, \"A\", 21]]  - test_convex - number of 1s: 0\n",
      "21 LinksGouldInvariant[2, 1, PrimeKnot[10, \"A\", 22]]  - test_convex - number of 1s: 0\n",
      "22 LinksGouldInvariant[2, 1, PrimeKnot[10, \"A\", 23]]  - test_convex - number of 1s: 0\n",
      "23 LinksGouldInvariant[2, 1, PrimeKnot[10, \"A\", 24]]  - test_convex - number of 1s: 0\n",
      "24 LinksGouldInvariant[2, 1, PrimeKnot[10, \"A\", 25]]  - test_convex - number of 1s: 0\n",
      "25 LinksGouldInvariant[2, 1, PrimeKnot[10, \"A\", 26]]  - test_convex - number of 1s: 0\n",
      "26 LinksGouldInvariant[2, 1, PrimeKnot[10, \"A\", 27]]  - test_convex - number of 1s: 0\n",
      "27 LinksGouldInvariant[2, 1, PrimeKnot[10, \"A\", 28]]  - test_convex - number of 1s: 0\n",
      "28 LinksGouldInvariant[2, 1, PrimeKnot[10, \"A\", 29]]  - test_convex - number of 1s: 0\n",
      "29 LinksGouldInvariant[2, 1, PrimeKnot[10, \"A\", 30]]  - test_convex - number of 1s: 0\n",
      "30 LinksGouldInvariant[2, 1, PrimeKnot[10, \"A\", 31]]  - test_convex - number of 1s: 0\n",
      "31 LinksGouldInvariant[2, 1, PrimeKnot[10, \"A\", 32]]  - test_convex - number of 1s: 0\n",
      "32 LinksGouldInvariant[2, 1, PrimeKnot[10, \"A\", 33]]  - test_convex - number of 1s: 0\n",
      "33 LinksGouldInvariant[2, 1, PrimeKnot[10, \"A\", 34]]  - test_convex - number of 1s: 0\n",
      "34 LinksGouldInvariant[2, 1, PrimeKnot[10, \"A\", 35]]  - test_convex - number of 1s: 0\n",
      "35 LinksGouldInvariant[2, 1, PrimeKnot[10, \"A\", 36]]  - test_convex - number of 1s: 0\n",
      "36 LinksGouldInvariant[2, 1, PrimeKnot[10, \"A\", 37]]  - test_convex - number of 1s: 0\n",
      "37 LinksGouldInvariant[2, 1, PrimeKnot[10, \"A\", 38]]  - test_convex - number of 1s: 0\n",
      "38 LinksGouldInvariant[2, 1, PrimeKnot[10, \"A\", 39]]  - test_convex - number of 1s: 0\n",
      "39 LinksGouldInvariant[2, 1, PrimeKnot[10, \"A\", 40]]  - test_convex - number of 1s: 0\n",
      "40 LinksGouldInvariant[2, 1, PrimeKnot[10, \"A\", 41]]  - test_convex - number of 1s: 0\n",
      "41 LinksGouldInvariant[2, 1, PrimeKnot[10, \"A\", 42]]  - test_convex - number of 1s: 0\n",
      "42 LinksGouldInvariant[2, 1, PrimeKnot[10, \"A\", 43]]  - test_convex - number of 1s: 0\n",
      "43 LinksGouldInvariant[2, 1, PrimeKnot[10, \"A\", 44]]  - test_convex - number of 1s: 0\n",
      "44 LinksGouldInvariant[2, 1, PrimeKnot[10, \"A\", 45]]  - test_convex - number of 1s: 0\n",
      "45 LinksGouldInvariant[2, 1, PrimeKnot[10, \"A\", 46]]  - test_convex - number of 1s: 0\n",
      "46 LinksGouldInvariant[2, 1, PrimeKnot[10, \"A\", 47]]  - test_convex - number of 1s: 0\n",
      "47 LinksGouldInvariant[2, 1, PrimeKnot[10, \"A\", 48]]  - test_convex - number of 1s: 0\n",
      "48 LinksGouldInvariant[2, 1, PrimeKnot[10, \"A\", 49]]  - test_convex - number of 1s: 0\n",
      "49 LinksGouldInvariant[2, 1, PrimeKnot[10, \"A\", 50]]  - test_convex - number of 1s: 0\n",
      "50 LinksGouldInvariant[2, 1, PrimeKnot[10, \"A\", 51]]  - test_convex - number of 1s: 0\n",
      "51 LinksGouldInvariant[2, 1, PrimeKnot[10, \"A\", 52]]  - test_convex - number of 1s: 0\n",
      "52 LinksGouldInvariant[2, 1, PrimeKnot[10, \"A\", 53]]  - test_convex - number of 1s: 0\n",
      "53 LinksGouldInvariant[2, 1, PrimeKnot[10, \"A\", 54]]  - test_convex - number of 1s: 0\n",
      "54 LinksGouldInvariant[2, 1, PrimeKnot[10, \"A\", 55]]  - test_convex - number of 1s: 0\n",
      "55 LinksGouldInvariant[2, 1, PrimeKnot[10, \"A\", 56]]  - test_convex - number of 1s: 0\n",
      "56 LinksGouldInvariant[2, 1, PrimeKnot[10, \"A\", 57]]  - test_convex - number of 1s: 0\n",
      "57 LinksGouldInvariant[2, 1, PrimeKnot[10, \"A\", 58]]  - test_convex - number of 1s: 0\n",
      "58 LinksGouldInvariant[2, 1, PrimeKnot[10, \"A\", 59]]  - test_convex - number of 1s: 0\n",
      "59 LinksGouldInvariant[2, 1, PrimeKnot[10, \"A\", 60]]  - test_convex - number of 1s: 0\n",
      "60 LinksGouldInvariant[2, 1, PrimeKnot[10, \"A\", 61]]  - test_convex - number of 1s: 0\n",
      "61 LinksGouldInvariant[2, 1, PrimeKnot[10, \"A\", 62]]  - test_convex - number of 1s: 0\n",
      "62 LinksGouldInvariant[2, 1, PrimeKnot[10, \"A\", 63]]  - test_convex - number of 1s: 0\n",
      "63 LinksGouldInvariant[2, 1, PrimeKnot[10, \"A\", 64]]  - test_convex - number of 1s: 0\n",
      "64 LinksGouldInvariant[2, 1, PrimeKnot[10, \"A\", 65]]  - test_convex - number of 1s: 0\n",
      "65 LinksGouldInvariant[2, 1, PrimeKnot[10, \"A\", 66]]  - test_convex - number of 1s: 0\n",
      "66 LinksGouldInvariant[2, 1, PrimeKnot[10, \"A\", 67]]  - test_convex - number of 1s: 0\n",
      "67 LinksGouldInvariant[2, 1, PrimeKnot[10, \"A\", 68]]  - test_convex - number of 1s: 0\n",
      "68 LinksGouldInvariant[2, 1, PrimeKnot[10, \"A\", 69]]  - test_convex - number of 1s: 0\n",
      "69 LinksGouldInvariant[2, 1, PrimeKnot[10, \"A\", 70]]  - test_convex - number of 1s: 0\n",
      "70 LinksGouldInvariant[2, 1, PrimeKnot[10, \"A\", 71]]  - test_convex - number of 1s: 0\n",
      "71 LinksGouldInvariant[2, 1, PrimeKnot[10, \"A\", 72]]  - test_convex - number of 1s: 0\n",
      "72 LinksGouldInvariant[2, 1, PrimeKnot[10, \"A\", 73]]  - test_convex - number of 1s: 0\n",
      "73 LinksGouldInvariant[2, 1, PrimeKnot[10, \"A\", 74]]  - test_convex - number of 1s: 0\n",
      "74 LinksGouldInvariant[2, 1, PrimeKnot[10, \"A\", 75]]  - test_convex - number of 1s: 0\n",
      "75 LinksGouldInvariant[2, 1, PrimeKnot[10, \"A\", 76]]  - test_convex - number of 1s: 0\n",
      "76 LinksGouldInvariant[2, 1, PrimeKnot[10, \"A\", 77]]  - test_convex - number of 1s: 0\n",
      "77 LinksGouldInvariant[2, 1, PrimeKnot[10, \"A\", 78]]  - test_convex - number of 1s: 0\n",
      "78 LinksGouldInvariant[2, 1, PrimeKnot[10, \"A\", 79]]  - test_convex - number of 1s: 0\n",
      "79 LinksGouldInvariant[2, 1, PrimeKnot[10, \"A\", 80]]  - test_convex - number of 1s: 0\n",
      "80 LinksGouldInvariant[2, 1, PrimeKnot[10, \"A\", 81]]  - test_convex - number of 1s: 0\n",
      "81 LinksGouldInvariant[2, 1, PrimeKnot[10, \"A\", 82]]  - test_convex - number of 1s: 0\n",
      "82 LinksGouldInvariant[2, 1, PrimeKnot[10, \"A\", 83]]  - test_convex - number of 1s: 0\n",
      "83 LinksGouldInvariant[2, 1, PrimeKnot[10, \"A\", 84]]  - test_convex - number of 1s: 0\n",
      "84 LinksGouldInvariant[2, 1, PrimeKnot[10, \"A\", 85]]  - test_convex - number of 1s: 0\n",
      "85 LinksGouldInvariant[2, 1, PrimeKnot[10, \"A\", 86]]  - test_convex - number of 1s: 0\n",
      "86 LinksGouldInvariant[2, 1, PrimeKnot[10, \"A\", 87]]  - test_convex - number of 1s: 0\n",
      "87 LinksGouldInvariant[2, 1, PrimeKnot[10, \"A\", 88]]  - test_convex - number of 1s: 0\n",
      "88 LinksGouldInvariant[2, 1, PrimeKnot[10, \"A\", 89]]  - test_convex - number of 1s: 0\n",
      "89 LinksGouldInvariant[2, 1, PrimeKnot[10, \"A\", 90]]  - test_convex - number of 1s: 0\n",
      "90 LinksGouldInvariant[2, 1, PrimeKnot[10, \"A\", 91]]  - test_convex - number of 1s: 0\n",
      "91 LinksGouldInvariant[2, 1, PrimeKnot[10, \"A\", 92]]  - test_convex - number of 1s: 0\n",
      "92 LinksGouldInvariant[2, 1, PrimeKnot[10, \"A\", 93]]  - test_convex - number of 1s: 0\n",
      "93 LinksGouldInvariant[2, 1, PrimeKnot[10, \"A\", 94]]  - test_convex - number of 1s: 0\n",
      "94 LinksGouldInvariant[2, 1, PrimeKnot[10, \"A\", 95]]  - test_convex - number of 1s: 0\n",
      "95 LinksGouldInvariant[2, 1, PrimeKnot[10, \"A\", 96]]  - test_convex - number of 1s: 0\n",
      "96 LinksGouldInvariant[2, 1, PrimeKnot[10, \"A\", 97]]  - test_convex - number of 1s: 0\n",
      "97 LinksGouldInvariant[2, 1, PrimeKnot[10, \"A\", 98]]  - test_convex - number of 1s: 0\n",
      "98 LinksGouldInvariant[2, 1, PrimeKnot[10, \"A\", 99]]  - test_convex - number of 1s: 0\n",
      "99 LinksGouldInvariant[2, 1, PrimeKnot[10, \"A\", 100]]  - test_convex - number of 1s: 0\n",
      "100 LinksGouldInvariant[2, 1, PrimeKnot[10, \"A\", 101]]  - test_convex - number of 1s: 0\n",
      "101 LinksGouldInvariant[2, 1, PrimeKnot[10, \"A\", 102]]  - test_convex - number of 1s: 0\n",
      "102 LinksGouldInvariant[2, 1, PrimeKnot[10, \"A\", 103]]  - test_convex - number of 1s: 0\n",
      "103 LinksGouldInvariant[2, 1, PrimeKnot[10, \"A\", 104]]  - test_convex - number of 1s: 0\n",
      "104 LinksGouldInvariant[2, 1, PrimeKnot[10, \"A\", 105]]  - test_convex - number of 1s: 0\n",
      "105 LinksGouldInvariant[2, 1, PrimeKnot[10, \"A\", 106]]  - test_convex - number of 1s: 0\n",
      "106 LinksGouldInvariant[2, 1, PrimeKnot[10, \"A\", 107]]  - test_convex - number of 1s: 0\n",
      "107 LinksGouldInvariant[2, 1, PrimeKnot[10, \"A\", 108]]  - test_convex - number of 1s: 0\n",
      "108 LinksGouldInvariant[2, 1, PrimeKnot[10, \"A\", 109]]  - test_convex - number of 1s: 0\n",
      "109 LinksGouldInvariant[2, 1, PrimeKnot[10, \"A\", 110]]  - test_convex - number of 1s: 0\n",
      "110 LinksGouldInvariant[2, 1, PrimeKnot[10, \"A\", 111]]  - test_convex - number of 1s: 0\n",
      "111 LinksGouldInvariant[2, 1, PrimeKnot[10, \"A\", 112]]  - test_convex - number of 1s: 0\n",
      "112 LinksGouldInvariant[2, 1, PrimeKnot[10, \"A\", 113]]  - test_convex - number of 1s: 0\n",
      "113 LinksGouldInvariant[2, 1, PrimeKnot[10, \"A\", 114]]  - test_convex - number of 1s: 0\n",
      "114 LinksGouldInvariant[2, 1, PrimeKnot[10, \"A\", 115]]  - test_convex - number of 1s: 0\n",
      "115 LinksGouldInvariant[2, 1, PrimeKnot[10, \"A\", 116]]  - test_convex - number of 1s: 0\n",
      "116 LinksGouldInvariant[2, 1, PrimeKnot[10, \"A\", 117]]  - test_convex - number of 1s: 0\n",
      "117 LinksGouldInvariant[2, 1, PrimeKnot[10, \"A\", 118]]  - test_convex - number of 1s: 0\n",
      "118 LinksGouldInvariant[2, 1, PrimeKnot[10, \"A\", 119]]  - test_convex - number of 1s: 0\n",
      "119 LinksGouldInvariant[2, 1, PrimeKnot[10, \"A\", 120]]  - test_convex - number of 1s: 0\n",
      "120 LinksGouldInvariant[2, 1, PrimeKnot[10, \"A\", 121]]  - test_convex - number of 1s: 0\n",
      "121 LinksGouldInvariant[2, 1, PrimeKnot[10, \"A\", 122]]  - test_convex - number of 1s: 0\n",
      "122 LinksGouldInvariant[2, 1, PrimeKnot[10, \"A\", 123]]  - test_convex - number of 1s: 0\n",
      "A10 finished... number of non_zero knots: 0\n"
     ]
    },
    {
     "data": {
      "text/plain": [
       "0"
      ]
     },
     "execution_count": 6,
     "metadata": {},
     "output_type": "execute_result"
    }
   ],
   "source": [
    "bbtest('10')"
   ]
  },
  {
   "cell_type": "code",
   "execution_count": 7,
   "id": "e21b234e-89ad-45a9-8c87-ceef913deee8",
   "metadata": {},
   "outputs": [],
   "source": [
    "# Test for whole\n",
    "# lists = [f\"{i:02d}\" for i in range(3, 17)]\n",
    "# zero_lists = []\n",
    "# for ll in lists:\n",
    "#     zero_lists.append(bbtest(ll))\n",
    "# Z = pd.DataFrame(columns=['num','number_of_nonzeros'])\n",
    "# Z['num'] = lists\n",
    "# Z['number_of_nonzeros'] = zero_lists\n",
    "# Z.to_csv('./data/A_whole/summary.csv',index=False)"
   ]
  },
  {
   "cell_type": "code",
   "execution_count": 8,
   "id": "e4706624-b769-4721-807d-ff727623291a",
   "metadata": {},
   "outputs": [],
   "source": [
    "T = pd.read_csv('./data/A_whole/A'+'13'+'.csv')"
   ]
  },
  {
   "cell_type": "code",
   "execution_count": 9,
   "id": "69ba7b09-ac10-41a3-a1e0-bb7d89d23f6d",
   "metadata": {},
   "outputs": [
    {
     "data": {
      "text/plain": [
       "'-12*t0**4*t1**3 + 55*t0**4*t1**2 - 107*t0**4*t1 + 117*t0**4 - 80*t0**4/t1 + 35*t0**4/t1**2 - 9*t0**4/t1**3 + t0**4/t1**4 - 12*t0**3*t1**4 + 126*t0**3*t1**3 - 461*t0**3*t1**2 + 859*t0**3*t1 - 946*t0**3 + 661*t0**3/t1 - 296*t0**3/t1**2 + 78*t0**3/t1**3 - 9*t0**3/t1**4 + 55*t0**2*t1**4 - 461*t0**2*t1**3 + 1580*t0**2*t1**2 - 2928*t0**2*t1 + 3279*t0**2 - 2338*t0**2/t1 + 1064*t0**2/t1**2 - 285*t0**2/t1**3 + 34*t0**2/t1**4 - 107*t0*t1**4 + 859*t0*t1**3 - 2928*t0*t1**2 + 5516*t0*t1 - 6319*t0 + 4583*t0/t1 - 2101*t0/t1**2 + 566*t0/t1**3 - 69*t0/t1**4 + 117*t1**4 - 946*t1**3 + 3279*t1**2 - 6319*t1 + 7383 - 5390/t1 + 2448/t1**2 - 650/t1**3 + 79/t1**4 - 80*t1**4/t0 + 661*t1**3/t0 - 2338*t1**2/t0 + 4583*t1/t0 - 5390/t0 + 3878/(t0*t1) - 1686/(t0*t1**2) + 420/(t0*t1**3) - 48/(t0*t1**4) + 35*t1**4/t0**2 - 296*t1**3/t0**2 + 1064*t1**2/t0**2 - 2101*t1/t0**2 + 2448/t0**2 - 1686/(t0**2*t1) + 660/(t0**2*t1**2) - 136/(t0**2*t1**3) + 12/(t0**2*t1**4) - 9*t1**4/t0**3 + 78*t1**3/t0**3 - 285*t1**2/t0**3 + 566*t1/t0**3 - 650/t0**3 + 420/(t0**3*t1) - 136/(t0**3*t1**2) + 16/(t0**3*t1**3) + t1**4/t0**4 - 9*t1**3/t0**4 + 34*t1**2/t0**4 - 69*t1/t0**4 + 79/t0**4 - 48/(t0**4*t1) + 12/(t0**4*t1**2)'"
      ]
     },
     "execution_count": 9,
     "metadata": {},
     "output_type": "execute_result"
    }
   ],
   "source": [
    "T.loc[0,'newExpr']\n"
   ]
  },
  {
   "cell_type": "code",
   "execution_count": 11,
   "id": "cd19ba4c-de3c-4de7-9b2e-46324cebc5b1",
   "metadata": {},
   "outputs": [],
   "source": [
    "m = T.loc[100,'A']\n",
    "matrix_str_cleaned = m.replace('\\n', ';')\n",
    "matrix_str_cleaned = matrix_str_cleaned.replace('[', '').replace(']', '')\n",
    "M = np.matrix(matrix_str_cleaned)"
   ]
  },
  {
   "cell_type": "code",
   "execution_count": 12,
   "id": "da2a5c15-93fb-4f8d-a511-ae02d15f496a",
   "metadata": {},
   "outputs": [
    {
     "data": {
      "text/plain": [
       "(11, 11)"
      ]
     },
     "execution_count": 12,
     "metadata": {},
     "output_type": "execute_result"
    }
   ],
   "source": [
    "np.array(M).shape"
   ]
  },
  {
   "cell_type": "code",
   "execution_count": 13,
   "id": "7f8d67af-02f1-4ecf-9999-595c783848c2",
   "metadata": {},
   "outputs": [
    {
     "data": {
      "text/plain": [
       "Index(['key', 'original', 'newExpr', 'A', 'test'], dtype='object')"
      ]
     },
     "execution_count": 13,
     "metadata": {},
     "output_type": "execute_result"
    }
   ],
   "source": [
    "T.columns"
   ]
  },
  {
   "cell_type": "code",
   "execution_count": null,
   "id": "07e4ae52-bc5d-4076-9f1a-fe42c038394d",
   "metadata": {},
   "outputs": [],
   "source": []
  },
  {
   "cell_type": "code",
   "execution_count": null,
   "id": "abcef6a5-ba0c-4906-96d9-85d0885fca2b",
   "metadata": {},
   "outputs": [],
   "source": []
  },
  {
   "cell_type": "code",
   "execution_count": null,
   "id": "9b608c72-125c-4d5f-9e66-64d9ee758e15",
   "metadata": {},
   "outputs": [],
   "source": []
  }
 ],
 "metadata": {
  "kernelspec": {
   "display_name": "Python 3 (ipykernel)",
   "language": "python",
   "name": "python3"
  },
  "language_info": {
   "codemirror_mode": {
    "name": "ipython",
    "version": 3
   },
   "file_extension": ".py",
   "mimetype": "text/x-python",
   "name": "python",
   "nbconvert_exporter": "python",
   "pygments_lexer": "ipython3",
   "version": "3.10.12"
  }
 },
 "nbformat": 4,
 "nbformat_minor": 5
}
