{
 "cells": [
  {
   "cell_type": "code",
   "execution_count": 1,
   "id": "70fbc4f3-e9f7-4ae8-9898-a6718c2c7dc3",
   "metadata": {},
   "outputs": [],
   "source": [
    "from sympy import symbols, expand,sympify,nsimplify\n",
    "import pandas as pd"
   ]
  },
  {
   "cell_type": "code",
   "execution_count": 2,
   "id": "26bba01c-b854-4600-bf88-feb506af4b78",
   "metadata": {},
   "outputs": [],
   "source": [
    "def create_newExpr(file_num):\n",
    "    filePath = \"./data/A_raw/\"+file_num+\"A.lg\"\n",
    "    # print(filePath)\n",
    "    with open(filePath,'r',encoding='utf-8') as f:\n",
    "        text = f.read()\n",
    "\n",
    "    expressions = [exp.strip() for exp in text.split('&') if exp.strip()]\n",
    "\n",
    "    rules = {}\n",
    "    for exp in expressions:\n",
    "        # Split the expression into left-hand side and right-hand side of '='\n",
    "        if '=' in exp:\n",
    "            parts = exp.split('=', 1)\n",
    "            name = parts[0].strip()\n",
    "            definition = parts[1].strip()\n",
    "            \n",
    "            # Remove trailing '&' if it is a pure function\n",
    "            if definition.endswith('&'):\n",
    "                definition = definition[:-1].strip()\n",
    "            \n",
    "            try:\n",
    "                # Convert to a SymPy expression\n",
    "                # First replace Mathematica-style #1/#2 with Python-recognizable variables\n",
    "                definition = definition.replace('#1', 'x').replace('#2', 'y')\n",
    "                expr = sympify(definition)\n",
    "                \n",
    "                rules[name] = expr\n",
    "            except Exception as e:\n",
    "                print(f\"wrong: {definition}, error: {e}\")\n",
    "\n",
    "    keys = list(rules.keys())\n",
    "    values = list(rules.values())\n",
    "\n",
    "    newExprs = []\n",
    "    for i in range(len(keys)):\n",
    "        t0, t1, x, y = symbols('t0 t1 x y')\n",
    "        expr = values[i].subs({\n",
    "            x: t0**(-1/2) * t1**(-1/2),\n",
    "            y: t1**(-1/4) / t0**(-1/4)\n",
    "        }) # replace (x,y) with (t0^{-1/2}*t1^{-1/2}, t1^{-1/4}/t0^{-1/4}) \n",
    "        newExpr = expand(expr)\n",
    "        newExpr = nsimplify(newExpr, rational=True)\n",
    "        newExprs.append(newExpr)\n",
    "        # break\n",
    "    D = pd.DataFrame(columns=['key','original','newExpr'])\n",
    "    D['key'] = keys\n",
    "    D['original'] = values\n",
    "    D['newExpr'] = newExprs\n",
    "\n",
    "    D.to_csv('./data/A_new/'+'new_'+file_num+'A.csv',index=False)"
   ]
  },
  {
   "cell_type": "code",
   "execution_count": 3,
   "id": "11c3cbaa-fed0-4f33-a7f5-d532ea296d10",
   "metadata": {},
   "outputs": [],
   "source": [
    "# Testing number 05 \n",
    "create_newExpr('05')"
   ]
  },
  {
   "cell_type": "code",
   "execution_count": 4,
   "id": "4e7d21e2-f504-4613-b107-d1185a6aa497",
   "metadata": {},
   "outputs": [],
   "source": [
    "lists = [f\"{i:02d}\" for i in range(3, 17)]"
   ]
  },
  {
   "cell_type": "code",
   "execution_count": 5,
   "id": "59c02349-ef85-4b6b-b381-45eaba0576ea",
   "metadata": {},
   "outputs": [
    {
     "data": {
      "text/plain": [
       "['03',\n",
       " '04',\n",
       " '05',\n",
       " '06',\n",
       " '07',\n",
       " '08',\n",
       " '09',\n",
       " '10',\n",
       " '11',\n",
       " '12',\n",
       " '13',\n",
       " '14',\n",
       " '15',\n",
       " '16']"
      ]
     },
     "execution_count": 5,
     "metadata": {},
     "output_type": "execute_result"
    }
   ],
   "source": [
    "lists"
   ]
  },
  {
   "cell_type": "code",
   "execution_count": 6,
   "id": "74938c28-3be7-4310-a0a0-6d3261d59078",
   "metadata": {},
   "outputs": [],
   "source": [
    "# # Testing all numbers from 03 to 16. Note that testing from 12 to 16 need some time.\n",
    "# for num in lists:\n",
    "#     create_newExpr(num)\n",
    "#     print('OK for ', num)\n",
    "# print('Done')"
   ]
  },
  {
   "cell_type": "code",
   "execution_count": null,
   "id": "b4c2d486-c821-44a3-945c-15241a060294",
   "metadata": {},
   "outputs": [],
   "source": []
  }
 ],
 "metadata": {
  "kernelspec": {
   "display_name": "Python 3 (ipykernel)",
   "language": "python",
   "name": "python3"
  },
  "language_info": {
   "codemirror_mode": {
    "name": "ipython",
    "version": 3
   },
   "file_extension": ".py",
   "mimetype": "text/x-python",
   "name": "python",
   "nbconvert_exporter": "python",
   "pygments_lexer": "ipython3",
   "version": "3.10.12"
  }
 },
 "nbformat": 4,
 "nbformat_minor": 5
}
